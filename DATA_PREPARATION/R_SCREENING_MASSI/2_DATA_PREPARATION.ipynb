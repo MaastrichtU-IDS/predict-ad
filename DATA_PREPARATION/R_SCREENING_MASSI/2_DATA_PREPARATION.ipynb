{
 "cells": [
  {
   "cell_type": "markdown",
   "metadata": {},
   "source": [
    "## DATA PREPARATION: IDENTIFICATION OF MCI SUBJECTS AND SCREENING OF TABLES"
   ]
  },
  {
   "cell_type": "code",
   "execution_count": 1,
   "metadata": {},
   "outputs": [],
   "source": [
    "########## IMPORT LIBRARIES\n",
    "\n",
    "import numpy as np\n",
    "import pandas as pd\n",
    "import os\n",
    "import sys\n",
    "import re"
   ]
  },
  {
   "cell_type": "code",
   "execution_count": 2,
   "metadata": {},
   "outputs": [
    {
     "data": {
      "text/plain": [
       "'/home/jovyan/work/DATA_PREPARATION/R_SCREENING_MASSI'"
      ]
     },
     "execution_count": 2,
     "metadata": {},
     "output_type": "execute_result"
    }
   ],
   "source": [
    "os.getcwd()"
   ]
  },
  {
   "cell_type": "code",
   "execution_count": 7,
   "metadata": {},
   "outputs": [],
   "source": [
    "########## Import file for table selection \n",
    "\n",
    "# from the origianl file, I added a column \"inclusion\" with a x \n",
    "# for the table to be included, according to my manual screening\n",
    "# DATADIC = pd.read_excel(io = \"/Users/massimilianograssi/Google Drive/Joint_projects_DS_Massi/1_ADNI_MCI_to_AD/DATA_15_12_2017/temp_r/DATADIC.xlsx\")\n",
    "DATADIC = pd.read_excel(io = \"/home/jovyan/work/ADNI_data/DATA_15_12_2017/temp_R/DATADIC.xlsx\")\n",
    "DATADIC = DATADIC.loc[DATADIC[\"inclusion\"] == \"x\"]\n",
    "DATADIC = DATADIC.loc[DATADIC[\"Phase\"] != \"ADNI3\"]"
   ]
  },
  {
   "cell_type": "code",
   "execution_count": 8,
   "metadata": {},
   "outputs": [],
   "source": [
    "########## Import ADNIMERGE FILE for baseline diagnosis and convertion at 3 years\n",
    "\n",
    "# ADNIMERGE = pd.read_csv(\"/Users/massimilianograssi/Google Drive/Joint_projects_DS_Massi/1_ADNI_MCI_to_AD/DATA_15_12_2017/Study_Info/ADNIMERGE.csv\")\n",
    "ADNIMERGE = pd.read_csv(\"/home/jovyan/work/ADNI_data/DATA_15_12_2017/Study_Info/ADNIMERGE.csv\")\n",
    "\n",
    "# INCLUDE ONLY MCI\n",
    "to_include_mci = np.unique(np.array(ADNIMERGE[\"RID\"].loc[ADNIMERGE[\"DX_bl\"].isin([\"EMCI\",\"LMCI\"])]))\n",
    "ADNIMERGE = ADNIMERGE.loc[ADNIMERGE[\"RID\"].isin(to_include_mci)]\n",
    "\n",
    "# INCLUDE ONLY SUBJECTS WITH INFO OF CONVERTION AT LEAST YEAR 3\n",
    "to_include_time = [\"m114\",\"m126\",\"m144\",\"m102\",\"m132\",\"m120\",\"m108\",\"m90\",\"m96\",\"m84\",\"m78\",\"m66\",\"m54\",\"m42\",\"m72\",\"m60\",\"m48\",\"m36\"]\n",
    "to_include_subjects = np.unique(np.array(ADNIMERGE[\"RID\"].loc[ADNIMERGE[\"VISCODE\"].isin(to_include_time)]))\n",
    "ADNIMERGE = ADNIMERGE.loc[ADNIMERGE[\"RID\"].isin(to_include_subjects)]\n",
    "\n",
    "# OF THESE SUBJECTS, KEEP ONLY INFO OF CONVERTION BY YEAR 3\n",
    "to_include_time_2 = [\"bl\",\"m03\",\"m30\",\"m36\",\"m24\",\"m18\",\"m12\",\"m06\"]\n",
    "ADNIMERGE = ADNIMERGE.loc[ADNIMERGE[\"VISCODE\"].isin(to_include_time_2)]"
   ]
  },
  {
   "cell_type": "code",
   "execution_count": 9,
   "metadata": {},
   "outputs": [
    {
     "name": "stdout",
     "output_type": "stream",
     "text": [
      "AV45VITALS may be in long format and not in wide format\n",
      "VITALS may be in long format and not in wide format\n",
      "RECMHIST may be in long format and not in wide format\n",
      "BACKMEDS may be in long format and not in wide format\n"
     ]
    },
    {
     "name": "stderr",
     "output_type": "stream",
     "text": [
      "/opt/conda/lib/python3.6/site-packages/IPython/core/interactiveshell.py:2785: DtypeWarning: Columns (9,15,16,18,19,21,22,24) have mixed types. Specify dtype option on import or set low_memory=False.\n",
      "  interactivity=interactivity, compiler=compiler, result=result)\n"
     ]
    },
    {
     "name": "stdout",
     "output_type": "stream",
     "text": [
      "RECCMEDS may be in long format and not in wide format\n",
      "UWNPSYCHSUM_10_27_17 may be in long format and not in wide format\n",
      "NEUROBAT may be in long format and not in wide format\n"
     ]
    },
    {
     "name": "stderr",
     "output_type": "stream",
     "text": [
      "/opt/conda/lib/python3.6/site-packages/IPython/core/interactiveshell.py:2785: DtypeWarning: Columns (8) have mixed types. Specify dtype option on import or set low_memory=False.\n",
      "  interactivity=interactivity, compiler=compiler, result=result)\n"
     ]
    },
    {
     "name": "stdout",
     "output_type": "stream",
     "text": [
      "ADNI_CBBRESULTS may be in long format and not in wide format\n"
     ]
    },
    {
     "name": "stderr",
     "output_type": "stream",
     "text": [
      "/opt/conda/lib/python3.6/site-packages/IPython/core/interactiveshell.py:2785: DtypeWarning: Columns (8,58,59,60,61,62,63,64) have mixed types. Specify dtype option on import or set low_memory=False.\n",
      "  interactivity=interactivity, compiler=compiler, result=result)\n"
     ]
    },
    {
     "name": "stdout",
     "output_type": "stream",
     "text": [
      "PTDEMOG may be in long format and not in wide format\n",
      "RECFHQ may be in long format and not in wide format\n"
     ]
    }
   ],
   "source": [
    "########## Import OTHER FILE with relevant data, select only relevant data\n",
    "\n",
    "names_table_included = np.append(np.unique(np.array(DATADIC['TBLNAME'])),\"CBB\")\n",
    "\n",
    "files_all = np.array([])\n",
    "# for path, subdirs, files in os.walk(\"/Users/massimilianograssi/Google Drive/Joint_projects_DS_Massi/1_ADNI_MCI_to_AD/DATA_15_12_2017\"):\n",
    "for path, subdirs, files in os.walk(\"/home/jovyan/work/ADNI_data/DATA_15_12_2017\"):\n",
    "    for name in files:\n",
    "        files_all = np.append(files_all,os.path.join(path, name))\n",
    "\n",
    "# keep only csv file and those identified in names_table_included\n",
    "files_all = pd.Series(files_all)\n",
    "files_all = files_all[files_all.str.endswith(\".csv\")]\n",
    "files_all = files_all[files_all.str.contains(\"|\".join(names_table_included))]\n",
    "files_all.index = np.array(range(files_all.shape[0]))\n",
    "\n",
    "# for each csv file, create the DataFrame and include only baseline info of only MCI subjects\n",
    "for i in range(files_all.shape[0]):\n",
    "    name_table_this = re.sub(\".*/\",\"\",re.sub(\".csv\",\"\",files_all[i]))\n",
    "    table_this = pd.read_csv(files_all[i])\n",
    "    \n",
    "    # include only variable at baseline or screening\n",
    "    if \"VISCODE\" in table_this.columns:\n",
    "        table_this = table_this.loc[table_this[\"VISCODE\"].isin([\"sc\",\"bl\",\"v03\"])]\n",
    "        \n",
    "    # INCLUDE only baseline MCI subjects\n",
    "    if \"RID\" in table_this.columns:\n",
    "        table_this = table_this.loc[table_this[\"RID\"].isin(to_include_subjects)]\n",
    "        if table_this[\"RID\"].size > np.unique(np.array(table_this[\"RID\"])).size:\n",
    "            print(name_table_this + \" may be in long format and not in wide format\")\n",
    "            \n",
    "    # save it as a dataframe only if it has at least more than 10 rows\n",
    "    if table_this.shape[0] > 10:\n",
    "         exec(name_table_this + \" = table_this\") \n",
    "\n",
    "# cleansing\n",
    "del table_this\n",
    "del name_table_this\n",
    "del DATADIC"
   ]
  },
  {
   "cell_type": "code",
   "execution_count": 10,
   "metadata": {},
   "outputs": [
    {
     "name": "stderr",
     "output_type": "stream",
     "text": [
      "/opt/conda/lib/python3.6/site-packages/pandas/core/indexing.py:189: SettingWithCopyWarning: \n",
      "A value is trying to be set on a copy of a slice from a DataFrame\n",
      "\n",
      "See the caveats in the documentation: http://pandas.pydata.org/pandas-docs/stable/indexing.html#indexing-view-versus-copy\n",
      "  self._setitem_with_indexer(indexer, value)\n"
     ]
    }
   ],
   "source": [
    "########## DECIDE NOW WHAT TO DO FOR EACH TABLE: REMOVE SOME TABLES AND MERGE OTHERS\n",
    "\n",
    "# RESHAPE ADNIMERGE AND ADD CONVERTION VARIABLE AT THE END\n",
    "tempo = ADNIMERGE.copy()\n",
    "tempo.index = np.array(range(tempo.shape[0]))\n",
    "ADNIMERGE = ADNIMERGE.loc[ADNIMERGE['VISCODE'].isin(([\"sc\",\"bl\",\"v03\"]))]\n",
    "ADNIMERGE.index = np.array(range(ADNIMERGE.shape[0]))\n",
    "\n",
    "ADNIMERGE[\"CONVERSION_AT_3Y\"] = \"NO\"\n",
    "\n",
    "for i in range(ADNIMERGE.shape[0]):\n",
    "    if \"Dementia\" in np.array(tempo[\"DX\"].loc[tempo[\"RID\"] == ADNIMERGE[\"RID\"].iloc[i]]):\n",
    "        ADNIMERGE[\"CONVERSION_AT_3Y\"].iloc[i] = \"YES\"\n",
    "        \n",
    "# remove ADAS: the total scores of the two ADAS battery can be found in the two ADASSCORES AND ADAS_ADNIGO23 tables (one for adni1 and the other for adnigo23) can already be found in ther ADNIMERGE table\n",
    "# what is missing is the single item score we will include eventually later\n",
    "del ADAS_ADNI1\n",
    "del ADAS_ADNIGO23\n",
    "del ADASSCORES\n",
    "\n",
    "# remove ADNI_CBBRESULTS is a cognitive battery used only in ADNI2 (only around 50 subjects)\n",
    "del ADNI_CBBRESULTS\n",
    "\n",
    "# ADSXLIST and BLSCHECK are the same, with different names for different ADNI phase.\n",
    "BLSCHECK.columns = ADSXLIST.columns\n",
    "ADSXLIST = pd.concat([ADSXLIST, BLSCHECK])\n",
    "del BLSCHECK\n",
    "\n",
    "# remove AV45VITALS as it seems to be data related to a challange \n",
    "del AV45VITALS\n",
    "\n",
    "# reshape BACKMEDS. it is the coding key medications taken by ADNIGO23 only subjects\n",
    "BACKMEDS[\"MED_0\"] = 0\n",
    "BACKMEDS[\"MED_1\"] = 0\n",
    "BACKMEDS[\"MED_2\"] = 0\n",
    "BACKMEDS[\"MED_3\"] = 0\n",
    "BACKMEDS[\"MED_4\"] = 0\n",
    "BACKMEDS[\"MED_5\"] = 0\n",
    "BACKMEDS[\"MED_6\"] = 0\n",
    "BACKMEDS[\"MED_7\"] = 0\n",
    "\n",
    "BACKMEDS[\"MED_0\"].loc[pd.Series(BACKMEDS[\"KEYMED\"]).str.contains(\"0\")] = 1\n",
    "BACKMEDS[\"MED_1\"].loc[pd.Series(BACKMEDS[\"KEYMED\"]).str.contains(\"1\")] = 1\n",
    "BACKMEDS[\"MED_2\"].loc[pd.Series(BACKMEDS[\"KEYMED\"]).str.contains(\"2\")] = 1\n",
    "BACKMEDS[\"MED_3\"].loc[pd.Series(BACKMEDS[\"KEYMED\"]).str.contains(\"3\")] = 1\n",
    "BACKMEDS[\"MED_4\"].loc[pd.Series(BACKMEDS[\"KEYMED\"]).str.contains(\"4\")] = 1\n",
    "BACKMEDS[\"MED_5\"].loc[pd.Series(BACKMEDS[\"KEYMED\"]).str.contains(\"5\")] = 1\n",
    "BACKMEDS[\"MED_6\"].loc[pd.Series(BACKMEDS[\"KEYMED\"]).str.contains(\"6\")] = 1\n",
    "BACKMEDS[\"MED_7\"].loc[pd.Series(BACKMEDS[\"KEYMED\"]).str.contains(\"7\")] = 1\n",
    "\n",
    "# remove BLCHANGE. It codes the change in other info than diagnosis\n",
    "del BLCHANGE\n",
    "\n",
    "# keep CDR. subscores have already proved to be predicted\n",
    "\n",
    "# remove CLIELG. Inclusion criteria satisfaction\n",
    "\n",
    "# remove ECOGPT. it is the item scores of everyday cog participant. Total is already in adnimerge\n",
    "del ECOGPT\n",
    "\n",
    "# remove ECOGSP. it is the item scores of everyday cog partner. Total is already in adnimerge\n",
    "del ECOGSP\n",
    "\n",
    "# remove FAQ. It contains item levels FAQ but total already in ADNIMERGE\n",
    "del FAQ\n",
    "\n",
    "# keep DXSUM_PDXSUM_ADNIALL. diagnostic summary and specifics\n",
    "\n",
    "# keep FHQ. Family history questionnaire\n",
    "\n",
    "# keep GDSCALE. Geriatric depression cale but seems not for all included participants\n",
    "\n",
    "# keep MEDHIST. Medical history for ADNI1GO\n",
    "\n",
    "# remove MMSE. it's the item level of MMSE and the total is included in the ADNIMERGE\n",
    "del MMSE\n",
    "\n",
    "# remove MOCA. it is the item scores of MOCA. Total is already in adnimerge\n",
    "del MOCA\n",
    "\n",
    "# keep MODHACH. Modified Hachinski test\n",
    "\n",
    "# keep NEUROBAT. Several tests not included in ADNIMERGE\n",
    "\n",
    "# keep NEUROEXM. Neurological examination at screening\n",
    "\n",
    "# merge NPI and NPIQ in NPI. NEUROPSYCHIATRIC info for ADNI2 not included in ADNIMERGE\n",
    "# keep only total scores\n",
    "# \"SEV\" in var name means severity so I change names ending with TOT in SEV for consistency between the two tables\n",
    "NPI.columns = [re.sub(\"TOT$\",\"SEV\",elem) for elem in NPI.columns]\n",
    "NPI.columns = [re.sub(\"NPITOTAL\",\"NPISCORE\",elem) for elem in NPI.columns]\n",
    "NPI.columns = [re.sub(\"NPISOURC$\",\"NPISOURCE\",elem) for elem in NPI.columns]\n",
    "\n",
    "NPI = NPI[NPIQ.columns]\n",
    "\n",
    "NPI = pd.concat([NPI, NPIQ])\n",
    "\n",
    "del NPIQ\n",
    "\n",
    "# keep PHYSICAL. Physical screening\n",
    "\n",
    "# keep PTDEMOG. Sociodemographics info\n",
    "\n",
    "# keep RECCMED. Information about medications for all included subjects, but very hard to recode and originally in long format\n",
    "\n",
    "# keep RECFHQ. Information about familiarity for dementia for all included subjects, but to be recoded and in long format\n",
    "\n",
    "# keep RECMHIST. Information about medical history for all included subjects, but very hard to recode and originally in long format\n",
    "\n",
    "# keep UWNPSYCHSUM_10_27_17. These are new total neurospychology scores for memory and exec func\n",
    "\n",
    "# keep VITALS\n"
   ]
  },
  {
   "cell_type": "code",
   "execution_count": 12,
   "metadata": {},
   "outputs": [
    {
     "ename": "NameError",
     "evalue": "name 'i' is not defined",
     "output_type": "error",
     "traceback": [
      "\u001b[0;31m---------------------------------------------------------------------------\u001b[0m",
      "\u001b[0;31mNameError\u001b[0m                                 Traceback (most recent call last)",
      "\u001b[0;32m<ipython-input-12-4cd6057f8eb1>\u001b[0m in \u001b[0;36m<module>\u001b[0;34m()\u001b[0m\n\u001b[1;32m      1\u001b[0m \u001b[0;31m########## FINAL CLEANSING\u001b[0m\u001b[0;34m\u001b[0m\u001b[0;34m\u001b[0m\u001b[0m\n\u001b[0;32m----> 2\u001b[0;31m \u001b[0;32mdel\u001b[0m \u001b[0mi\u001b[0m\u001b[0;34m\u001b[0m\u001b[0m\n\u001b[0m\u001b[1;32m      3\u001b[0m \u001b[0;32mdel\u001b[0m \u001b[0mnames_table_included\u001b[0m\u001b[0;34m\u001b[0m\u001b[0m\n\u001b[1;32m      4\u001b[0m \u001b[0mADNIMERGE\u001b[0m\u001b[0;34m.\u001b[0m\u001b[0mshape\u001b[0m\u001b[0;34m\u001b[0m\u001b[0m\n",
      "\u001b[0;31mNameError\u001b[0m: name 'i' is not defined"
     ]
    }
   ],
   "source": [
    "########## FINAL CLEANSING\n",
    "del i\n",
    "del names_table_included\n"
   ]
  },
  {
   "cell_type": "code",
   "execution_count": 13,
   "metadata": {},
   "outputs": [
    {
     "data": {
      "text/plain": [
       "(550, 110)"
      ]
     },
     "execution_count": 13,
     "metadata": {},
     "output_type": "execute_result"
    }
   ],
   "source": [
    "ADNIMERGE.shape"
   ]
  },
  {
   "cell_type": "code",
   "execution_count": 20,
   "metadata": {},
   "outputs": [],
   "source": [
    "########## EXPORT NEW TABLES\n",
    "\n",
    "ADNIMERGE.to_csv(\"/Users/massimilianograssi/Google Drive/Joint_projects_DS_Massi/1_ADNI_MCI_to_AD/DATA_15_12_2017/SCREENED_TABLES/ADNIMERGE.csv\")\n",
    "ADSXLIST.to_csv(\"/Users/massimilianograssi/Google Drive/Joint_projects_DS_Massi/1_ADNI_MCI_to_AD/DATA_15_12_2017/SCREENED_TABLES/ADSXLIST.csv\")\n",
    "BACKMEDS.to_csv(\"/Users/massimilianograssi/Google Drive/Joint_projects_DS_Massi/1_ADNI_MCI_to_AD/DATA_15_12_2017/SCREENED_TABLES/BACKMEDS.csv\")\n",
    "CDR.to_csv(\"/Users/massimilianograssi/Google Drive/Joint_projects_DS_Massi/1_ADNI_MCI_to_AD/DATA_15_12_2017/SCREENED_TABLES/CDR.csv\")\n",
    "CLIELG.to_csv(\"/Users/massimilianograssi/Google Drive/Joint_projects_DS_Massi/1_ADNI_MCI_to_AD/DATA_15_12_2017/SCREENED_TABLES/CLIELG.csv\")\n",
    "DXSUM_PDXCONV_ADNIALL.to_csv(\"/Users/massimilianograssi/Google Drive/Joint_projects_DS_Massi/1_ADNI_MCI_to_AD/DATA_15_12_2017/SCREENED_TABLES/DXSUM_PDXCONV_ADNIALL.csv\")\n",
    "FHQ.to_csv(\"/Users/massimilianograssi/Google Drive/Joint_projects_DS_Massi/1_ADNI_MCI_to_AD/DATA_15_12_2017/SCREENED_TABLES/FHQ.csv\")\n",
    "GDSCALE.to_csv(\"/Users/massimilianograssi/Google Drive/Joint_projects_DS_Massi/1_ADNI_MCI_to_AD/DATA_15_12_2017/SCREENED_TABLES/GDSCALE.csv\")\n",
    "MEDHIST.to_csv(\"/Users/massimilianograssi/Google Drive/Joint_projects_DS_Massi/1_ADNI_MCI_to_AD/DATA_15_12_2017/SCREENED_TABLES/MEDHIST.csv\")\n",
    "MODHACH.to_csv(\"/Users/massimilianograssi/Google Drive/Joint_projects_DS_Massi/1_ADNI_MCI_to_AD/DATA_15_12_2017/SCREENED_TABLES/MODHACH.csv\")\n",
    "NEUROBAT.to_csv(\"/Users/massimilianograssi/Google Drive/Joint_projects_DS_Massi/1_ADNI_MCI_to_AD/DATA_15_12_2017/SCREENED_TABLES/NEUROBAT.csv\")\n",
    "NEUROEXM.to_csv(\"/Users/massimilianograssi/Google Drive/Joint_projects_DS_Massi/1_ADNI_MCI_to_AD/DATA_15_12_2017/SCREENED_TABLES/NEUROEXM.csv\")\n",
    "NPI.to_csv(\"/Users/massimilianograssi/Google Drive/Joint_projects_DS_Massi/1_ADNI_MCI_to_AD/DATA_15_12_2017/SCREENED_TABLES/NPI.csv\")\n",
    "PHYSICAL.to_csv(\"/Users/massimilianograssi/Google Drive/Joint_projects_DS_Massi/1_ADNI_MCI_to_AD/DATA_15_12_2017/SCREENED_TABLES/PHYSICAL.csv\")\n",
    "PTDEMOG.to_csv(\"/Users/massimilianograssi/Google Drive/Joint_projects_DS_Massi/1_ADNI_MCI_to_AD/DATA_15_12_2017/SCREENED_TABLES/PTDEMOG.csv\")\n",
    "RECCMEDS.to_csv(\"/Users/massimilianograssi/Google Drive/Joint_projects_DS_Massi/1_ADNI_MCI_to_AD/DATA_15_12_2017/SCREENED_TABLES/RECCMEDS.csv\")\n",
    "RECFHQ.to_csv(\"/Users/massimilianograssi/Google Drive/Joint_projects_DS_Massi/1_ADNI_MCI_to_AD/DATA_15_12_2017/SCREENED_TABLES/RECFHQ.csv\")\n",
    "RECMHIST.to_csv(\"/Users/massimilianograssi/Google Drive/Joint_projects_DS_Massi/1_ADNI_MCI_to_AD/DATA_15_12_2017/SCREENED_TABLES/RECMHIST.csv\")\n",
    "UWNPSYCHSUM_10_27_17.to_csv(\"/Users/massimilianograssi/Google Drive/Joint_projects_DS_Massi/1_ADNI_MCI_to_AD/DATA_15_12_2017/SCREENED_TABLES/UWNPSYCHSUM_10_27_17.csv\")\n",
    "VITALS.to_csv(\"/Users/massimilianograssi/Google Drive/Joint_projects_DS_Massi/1_ADNI_MCI_to_AD/DATA_15_12_2017/SCREENED_TABLES/VITALS.csv\")\n",
    "\n",
    "\n",
    "\n"
   ]
  },
  {
   "cell_type": "code",
   "execution_count": null,
   "metadata": {},
   "outputs": [],
   "source": []
  },
  {
   "cell_type": "code",
   "execution_count": null,
   "metadata": {},
   "outputs": [],
   "source": []
  },
  {
   "cell_type": "code",
   "execution_count": null,
   "metadata": {},
   "outputs": [],
   "source": []
  },
  {
   "cell_type": "code",
   "execution_count": null,
   "metadata": {},
   "outputs": [],
   "source": []
  }
 ],
 "metadata": {
  "kernelspec": {
   "display_name": "Python 3",
   "language": "python",
   "name": "python3"
  },
  "language_info": {
   "codemirror_mode": {
    "name": "ipython",
    "version": 3
   },
   "file_extension": ".py",
   "mimetype": "text/x-python",
   "name": "python",
   "nbconvert_exporter": "python",
   "pygments_lexer": "ipython3",
   "version": "3.6.5"
  }
 },
 "nbformat": 4,
 "nbformat_minor": 4
}
