{
 "cells": [
  {
   "cell_type": "code",
   "execution_count": null,
   "metadata": {},
   "outputs": [],
   "source": [
    "# INSTALL AND IMPORT LIBRARIES\n",
    "if ((\"boot\" %in% installed.packages()[,\"Package\"]) == FALSE) install.packages(\"boot\")\n",
    "library(\"boot\")\n",
    "\n",
    "if ((\"pROC\" %in% installed.packages()[,\"Package\"]) == FALSE) install.packages(\"pROC\")\n",
    "library(\"pROC\")"
   ]
  },
  {
   "cell_type": "code",
   "execution_count": null,
   "metadata": {},
   "outputs": [],
   "source": [
    "# IMPORT PROBABILISTIC PREDICTIONS TO BE BOOTSTRAPPED\n",
    "for (file in list.files()) {\n",
    "    if (length(grep(\"probabilistic_prediction\",file)>0)) {\n",
    "        assign(gsub(\".csv\",\"\",file), as.numeric(unlist(read.csv(file, header = FALSE))))\n",
    "    }\n",
    "}\n",
    "\n",
    "# IMPORT TRUE PREDICTIONS \n",
    "assign(\"true_outcome_complete\", as.numeric(unlist(read.csv(\"true_outcome_complete.csv\", header = FALSE))))"
   ]
  },
  {
   "cell_type": "code",
   "execution_count": null,
   "metadata": {},
   "outputs": [],
   "source": [
    "# BOOSTRAP\n",
    "\n",
    "auc_func_this <- function(data){\n",
    "    auc(response = true_outcome_complete[data], predictor = probabilistic_prediction_complete_wra[data])\n",
    "}\n",
    "\n",
    "AUC_CI_BOOSTRAP <- data.frame(MODEL = \"\", LOW_CI = 0, HIGH_CI = 0)[-1,]\n",
    "AUC_CI_BOOSTRAP$MODEL <- as.character(AUC_CI_BOOSTRAP$MODEL)\n",
    "\n",
    "for (object in ls()) {\n",
    "    if (length(grep(\"probabilistic_prediction\",object)>0)) {\n",
    "        auc_func_this <- function(original, data){\n",
    "                        auc(response = true_outcome_complete[data], predictor = get(object)[data])\n",
    "        }\n",
    "        CI_THIS <- boot.ci(boot(1:length(true_outcome_complete), \n",
    "                                auc_func_this, \n",
    "                                10000, \n",
    "                                stype='i',\n",
    "                               strata = true_outcome_complete),\n",
    "                           conf = 0.95,\n",
    "                           type = \"bca\")\n",
    "        # print(CI_THIS)\n",
    "        AUC_CI_BOOSTRAP[nrow(AUC_CI_BOOSTRAP)+1,\"MODEL\"] <- object\n",
    "        AUC_CI_BOOSTRAP[nrow(AUC_CI_BOOSTRAP),\"LOW_CI\"] <- CI_THIS$bca[4]\n",
    "        AUC_CI_BOOSTRAP[nrow(AUC_CI_BOOSTRAP),\"HIGH_CI\"] <- CI_THIS$bca[5]\n",
    "        \n",
    "    }\n",
    "}\n",
    "\n"
   ]
  },
  {
   "cell_type": "code",
   "execution_count": null,
   "metadata": {},
   "outputs": [],
   "source": [
    "# cleansing\n",
    "AUC_CI_BOOSTRAP$MODEL <- gsub(\"_complete_\",\"\",gsub(\"_test_UNIVARIATE_FEATURE_IMPORTANCE\",\"\",gsub(\"probabilistic_prediction\",\"\",AUC_CI_BOOSTRAP$MODEL)))"
   ]
  },
  {
   "cell_type": "code",
   "execution_count": null,
   "metadata": {},
   "outputs": [],
   "source": [
    "# EXPORT RESULTS\n",
    "write.csv(AUC_CI_BOOSTRAP, \"CI_BOOSTRAP_AUCS.csv\",col.names=TRUE, row.names=FALSE)"
   ]
  },
  {
   "cell_type": "code",
   "execution_count": null,
   "metadata": {},
   "outputs": [],
   "source": []
  }
 ],
 "metadata": {
  "kernelspec": {
   "display_name": "R",
   "language": "R",
   "name": "ir"
  },
  "language_info": {
   "codemirror_mode": "r",
   "file_extension": ".r",
   "mimetype": "text/x-r-source",
   "name": "R",
   "pygments_lexer": "r",
   "version": "3.4.1"
  }
 },
 "nbformat": 4,
 "nbformat_minor": 2
}
